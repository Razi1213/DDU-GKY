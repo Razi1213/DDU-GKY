{
 "cells": [
  {
   "cell_type": "markdown",
   "id": "3721c94b",
   "metadata": {},
   "source": [
    "# Extend nested list by adding the sub list"
   ]
  },
  {
   "cell_type": "code",
   "execution_count": 14,
   "id": "ae97ef52",
   "metadata": {},
   "outputs": [
    {
     "name": "stdout",
     "output_type": "stream",
     "text": [
      "['a', 'b', ['c', ['d', 'e', ['f', 'g', ['h', 'i', 'j']], 'k'], 'l'], 'm', 'n']\n"
     ]
    }
   ],
   "source": [
    "list1 = [\"a\", \"b\", [\"c\", [\"d\", \"e\", [\"f\", \"g\"], \"k\"], \"l\"],\"m\",\"n\"]\n",
    "sub_list = [\"h\", \"i\", \"j\"]\n",
    "list3=list1[2][1][2]\n",
    "list3.insert(2,sub_list)\n",
    "print(list1)"
   ]
  },
  {
   "cell_type": "code",
   "execution_count": 15,
   "id": "bd2f9638",
   "metadata": {},
   "outputs": [
    {
     "name": "stdout",
     "output_type": "stream",
     "text": [
      "['a', 'b', ['c', ['d', 'e', ['f', 'g', 'h', 'i', 'j'], 'k'], 'l'], 'm', 'n']\n"
     ]
    }
   ],
   "source": [
    "list1 = [\"a\", \"b\", [\"c\", [\"d\", \"e\", [\"f\", \"g\"], \"k\"], \"l\"],\"m\",\"n\"]\n",
    "sub_list = [\"h\", \"i\", \"j\"]\n",
    "list1[2][1][2].extend(sub_list)\n",
    "print(list1)"
   ]
  },
  {
   "cell_type": "markdown",
   "id": "0467a847",
   "metadata": {},
   "source": [
    "# Replace list’s item with new value if found"
   ]
  },
  {
   "cell_type": "code",
   "execution_count": 2,
   "id": "124e695f",
   "metadata": {},
   "outputs": [
    {
     "name": "stdout",
     "output_type": "stream",
     "text": [
      "4\n",
      "7\n",
      "[13, 26, 21, 12, 200, 45, 65, 200, 70, 85]\n"
     ]
    }
   ],
   "source": [
    "list=[13,26,21,12,20,45,65,20,70,85]\n",
    "for i in range(len(list)):\n",
    "    if list[i]==20:\n",
    "        print(i)\n",
    "        list[i]=200\n",
    "print(list)\n",
    "        \n",
    "      "
   ]
  },
  {
   "cell_type": "code",
   "execution_count": 3,
   "id": "b1f541d2",
   "metadata": {},
   "outputs": [
    {
     "name": "stdout",
     "output_type": "stream",
     "text": [
      "[13, 26, 21, 12, 20, 45, 65, 20, 70, 85]\n",
      "[13, 26, 21, 12, 200, 45, 65, 20, 70, 85]\n",
      "[13, 26, 21, 12, 200, 45, 65, 200, 70, 85]\n"
     ]
    }
   ],
   "source": [
    "list=[13,26,21,12,20,45,65,20,70,85]\n",
    "for i in list:\n",
    "    if i==20:\n",
    "        print(list)\n",
    "        a=list.index(20)\n",
    "        list[a]=200\n",
    "print(list)\n",
    "        "
   ]
  },
  {
   "cell_type": "markdown",
   "id": "a657010d",
   "metadata": {},
   "source": [
    "# Remove all occurrences of a specific item from a list"
   ]
  },
  {
   "cell_type": "code",
   "execution_count": 4,
   "id": "1be0da96",
   "metadata": {},
   "outputs": [
    {
     "name": "stdout",
     "output_type": "stream",
     "text": [
      "[13, 26, 21, 12, 45, 65, 70, 85]\n"
     ]
    }
   ],
   "source": [
    "list=[13,26,21,12,20,45,65,20,70,85,20]\n",
    "for i in list:\n",
    "    if i ==20:\n",
    "        a=list.remove(i)\n",
    "print(list)"
   ]
  },
  {
   "cell_type": "code",
   "execution_count": 5,
   "id": "db16102c",
   "metadata": {},
   "outputs": [
    {
     "name": "stdout",
     "output_type": "stream",
     "text": [
      "[13, 26, 21, 12, 20, 45, 65, 20, 70, 85, 20]\n",
      "[13, 26, 21, 12, 20, 45, 65, 20, 70, 85, 20]\n",
      "[13, 26, 21, 12, 20, 45, 65, 20, 70, 85, 20]\n",
      "[13, 26, 21, 12, 20, 45, 65, 20, 70, 85, 20]\n",
      "[13, 26, 21, 12, 45, 65, 20, 70, 85, 20]\n",
      "[13, 26, 21, 12, 45, 65, 20, 70, 85, 20]\n",
      "[13, 26, 21, 12, 45, 65, 70, 85, 20]\n",
      "[13, 26, 21, 12, 45, 65, 70, 85, 20]\n",
      "[13, 26, 21, 12, 45, 65, 70, 85]\n"
     ]
    },
    {
     "ename": "IndexError",
     "evalue": "list index out of range",
     "output_type": "error",
     "traceback": [
      "\u001b[1;31m---------------------------------------------------------------------------\u001b[0m",
      "\u001b[1;31mIndexError\u001b[0m                                Traceback (most recent call last)",
      "\u001b[1;32m~\\AppData\\Local\\Temp\\ipykernel_4660\\4208028921.py\u001b[0m in \u001b[0;36m<module>\u001b[1;34m\u001b[0m\n\u001b[0;32m      1\u001b[0m \u001b[0mlist5\u001b[0m\u001b[1;33m=\u001b[0m\u001b[1;33m[\u001b[0m\u001b[1;36m13\u001b[0m\u001b[1;33m,\u001b[0m\u001b[1;36m26\u001b[0m\u001b[1;33m,\u001b[0m\u001b[1;36m21\u001b[0m\u001b[1;33m,\u001b[0m\u001b[1;36m12\u001b[0m\u001b[1;33m,\u001b[0m\u001b[1;36m20\u001b[0m\u001b[1;33m,\u001b[0m\u001b[1;36m45\u001b[0m\u001b[1;33m,\u001b[0m\u001b[1;36m65\u001b[0m\u001b[1;33m,\u001b[0m\u001b[1;36m20\u001b[0m\u001b[1;33m,\u001b[0m\u001b[1;36m70\u001b[0m\u001b[1;33m,\u001b[0m\u001b[1;36m85\u001b[0m\u001b[1;33m,\u001b[0m\u001b[1;36m20\u001b[0m\u001b[1;33m]\u001b[0m\u001b[1;33m\u001b[0m\u001b[1;33m\u001b[0m\u001b[0m\n\u001b[0;32m      2\u001b[0m \u001b[1;32mfor\u001b[0m \u001b[0mi\u001b[0m \u001b[1;32min\u001b[0m \u001b[0mrange\u001b[0m \u001b[1;33m(\u001b[0m\u001b[0mlen\u001b[0m\u001b[1;33m(\u001b[0m\u001b[0mlist5\u001b[0m\u001b[1;33m)\u001b[0m\u001b[1;33m)\u001b[0m\u001b[1;33m:\u001b[0m\u001b[1;33m\u001b[0m\u001b[1;33m\u001b[0m\u001b[0m\n\u001b[1;32m----> 3\u001b[1;33m     \u001b[1;32mif\u001b[0m \u001b[0mlist5\u001b[0m\u001b[1;33m[\u001b[0m\u001b[0mi\u001b[0m\u001b[1;33m]\u001b[0m\u001b[1;33m==\u001b[0m\u001b[1;36m20\u001b[0m\u001b[1;33m:\u001b[0m\u001b[1;33m\u001b[0m\u001b[1;33m\u001b[0m\u001b[0m\n\u001b[0m\u001b[0;32m      4\u001b[0m         \u001b[0mlist5\u001b[0m\u001b[1;33m.\u001b[0m\u001b[0mremove\u001b[0m\u001b[1;33m(\u001b[0m\u001b[1;36m20\u001b[0m\u001b[1;33m)\u001b[0m\u001b[1;33m\u001b[0m\u001b[1;33m\u001b[0m\u001b[0m\n\u001b[0;32m      5\u001b[0m     \u001b[0mprint\u001b[0m\u001b[1;33m(\u001b[0m\u001b[0mlist5\u001b[0m\u001b[1;33m)\u001b[0m\u001b[1;33m\u001b[0m\u001b[1;33m\u001b[0m\u001b[0m\n",
      "\u001b[1;31mIndexError\u001b[0m: list index out of range"
     ]
    }
   ],
   "source": [
    "list5=[13,26,21,12,20,45,65,20,70,85,20]\n",
    "for i in range (len(list5)):\n",
    "    if list5[i]==20:\n",
    "        list5.remove(20) \n",
    "    print(list5)"
   ]
  },
  {
   "cell_type": "markdown",
   "id": "ccd8db6e",
   "metadata": {},
   "source": [
    "# Swap two tuples in Python"
   ]
  },
  {
   "cell_type": "code",
   "execution_count": 6,
   "id": "cdcdd352",
   "metadata": {},
   "outputs": [
    {
     "name": "stdout",
     "output_type": "stream",
     "text": [
      "(99, 88) (11, 22)\n"
     ]
    }
   ],
   "source": [
    "t1=(11,22)\n",
    "t2=(99,88)\n",
    "t1,t2=t2,t1\n",
    "print(t1,t2)"
   ]
  },
  {
   "cell_type": "code",
   "execution_count": 7,
   "id": "ea3fb715",
   "metadata": {},
   "outputs": [
    {
     "name": "stdout",
     "output_type": "stream",
     "text": [
      "[99, 88] [11, 22]\n"
     ]
    }
   ],
   "source": [
    "t1=[11,22]\n",
    "t2=[99,88]\n",
    "t1,t2=t2,t1\n",
    "print(t1,t2)"
   ]
  },
  {
   "cell_type": "markdown",
   "id": "54046bfc",
   "metadata": {},
   "source": [
    "# Copy specific elements from one tuple to a new tuple"
   ]
  },
  {
   "cell_type": "code",
   "execution_count": 8,
   "id": "d3add49e",
   "metadata": {},
   "outputs": [
    {
     "name": "stdout",
     "output_type": "stream",
     "text": [
      "(44, 55)\n"
     ]
    }
   ],
   "source": [
    "tuple1 = (11, 22, 33, 44, 55, 66)\n",
    "tuple2=tuple1[3:5]\n",
    "print(tuple2)"
   ]
  },
  {
   "cell_type": "markdown",
   "id": "3e2af96e",
   "metadata": {},
   "source": [
    "# Check if all items in the tuple are the same"
   ]
  },
  {
   "cell_type": "code",
   "execution_count": 9,
   "id": "30f17727",
   "metadata": {},
   "outputs": [
    {
     "name": "stdout",
     "output_type": "stream",
     "text": [
      "True\n"
     ]
    }
   ],
   "source": [
    "tuple1 = (45,45,45,45)\n",
    "result=all(tuple1)\n",
    "print(result)"
   ]
  },
  {
   "cell_type": "code",
   "execution_count": 10,
   "id": "80a0bd37",
   "metadata": {},
   "outputs": [
    {
     "name": "stdout",
     "output_type": "stream",
     "text": [
      "True\n"
     ]
    }
   ],
   "source": [
    "tuple1 = (45,45,45,45,55,65,41)\n",
    "result=all(tuple1)\n",
    "print(result)"
   ]
  },
  {
   "cell_type": "code",
   "execution_count": 20,
   "id": "8b3a75b4",
   "metadata": {},
   "outputs": [
    {
     "name": "stdout",
     "output_type": "stream",
     "text": [
      "false\n"
     ]
    }
   ],
   "source": [
    "tuple1=(45,45,45,45,55,65,41)\n",
    "count=0\n",
    "a=len(tuple1)\n",
    "for i in tuple1:\n",
    "    if i==tuple1[0]:\n",
    "        count=count+1\n",
    "    else:\n",
    "            pass\n",
    "if a==count:  \n",
    "    result=\"True\"\n",
    "else:\n",
    "    result=\"false\"\n",
    "print(result)\n",
    "    \n"
   ]
  },
  {
   "cell_type": "code",
   "execution_count": 24,
   "id": "0b4e161c",
   "metadata": {},
   "outputs": [
    {
     "name": "stdout",
     "output_type": "stream",
     "text": [
      "true\n"
     ]
    }
   ],
   "source": [
    "list=[12,12,12,12,12]\n",
    "count=0\n",
    "a=len(list)\n",
    "for i in list:\n",
    "    if i==list[0]:\n",
    "        count=count+1\n",
    "    else:\n",
    "            pass\n",
    "if a==count:\n",
    "    result=\"true\"\n",
    "else:\n",
    "    result=\"false\"\n",
    "print(result)"
   ]
  },
  {
   "cell_type": "code",
   "execution_count": null,
   "id": "5c5cc5e0",
   "metadata": {},
   "outputs": [],
   "source": []
  }
 ],
 "metadata": {
  "kernelspec": {
   "display_name": "Python 3 (ipykernel)",
   "language": "python",
   "name": "python3"
  },
  "language_info": {
   "codemirror_mode": {
    "name": "ipython",
    "version": 3
   },
   "file_extension": ".py",
   "mimetype": "text/x-python",
   "name": "python",
   "nbconvert_exporter": "python",
   "pygments_lexer": "ipython3",
   "version": "3.9.13"
  }
 },
 "nbformat": 4,
 "nbformat_minor": 5
}
