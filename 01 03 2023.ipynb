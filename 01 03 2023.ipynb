{
 "cells": [
  {
   "cell_type": "code",
   "execution_count": 24,
   "id": "c36f27de",
   "metadata": {},
   "outputs": [
    {
     "name": "stdout",
     "output_type": "stream",
     "text": [
      "1\n",
      "2\n",
      "3\n",
      "4\n",
      "5\n"
     ]
    }
   ],
   "source": [
    "###print a list one by one\n",
    "\n",
    "list=[1,2,3,4,5]\n",
    "for i in list:\n",
    "    print(i)"
   ]
  },
  {
   "cell_type": "markdown",
   "id": "ed922847",
   "metadata": {},
   "source": [
    "# print a list in reverse order"
   ]
  },
  {
   "cell_type": "code",
   "execution_count": 2,
   "id": "1609d654",
   "metadata": {},
   "outputs": [
    {
     "name": "stdout",
     "output_type": "stream",
     "text": [
      "[5, 4, 3, 2, 1]\n"
     ]
    }
   ],
   "source": [
    "print(list[::-1])"
   ]
  },
  {
   "cell_type": "markdown",
   "id": "5cb66af5",
   "metadata": {},
   "source": [
    "# print  list numbers in diffrent values"
   ]
  },
  {
   "cell_type": "code",
   "execution_count": 3,
   "id": "abc708c9",
   "metadata": {},
   "outputs": [
    {
     "name": "stdout",
     "output_type": "stream",
     "text": [
      "[1, 2, 3, 4, 5]\n"
     ]
    }
   ],
   "source": [
    "print(list[:5])"
   ]
  },
  {
   "cell_type": "code",
   "execution_count": 4,
   "id": "e22f59d6",
   "metadata": {},
   "outputs": [
    {
     "name": "stdout",
     "output_type": "stream",
     "text": [
      "[1, 2, 3, 4, 5]\n"
     ]
    }
   ],
   "source": [
    "print(list[0:])"
   ]
  },
  {
   "cell_type": "code",
   "execution_count": 6,
   "id": "5cddfc6a",
   "metadata": {},
   "outputs": [
    {
     "name": "stdout",
     "output_type": "stream",
     "text": [
      "[1, 2, 3]\n"
     ]
    }
   ],
   "source": [
    "print(list[0:3])"
   ]
  },
  {
   "cell_type": "code",
   "execution_count": 7,
   "id": "ddcd8f17",
   "metadata": {},
   "outputs": [
    {
     "name": "stdout",
     "output_type": "stream",
     "text": [
      "[4, 5]\n"
     ]
    }
   ],
   "source": [
    "print(list[3:5])"
   ]
  },
  {
   "cell_type": "code",
   "execution_count": 8,
   "id": "0743ade4",
   "metadata": {},
   "outputs": [
    {
     "name": "stdout",
     "output_type": "stream",
     "text": [
      "5\n"
     ]
    }
   ],
   "source": [
    "print(list[-1])"
   ]
  },
  {
   "cell_type": "code",
   "execution_count": 12,
   "id": "0ab3a9e1",
   "metadata": {},
   "outputs": [
    {
     "name": "stdout",
     "output_type": "stream",
     "text": [
      "4\n"
     ]
    }
   ],
   "source": [
    "print(list[-2])"
   ]
  },
  {
   "cell_type": "markdown",
   "id": "9f558bde",
   "metadata": {},
   "source": [
    "# changing values in a list"
   ]
  },
  {
   "cell_type": "code",
   "execution_count": 21,
   "id": "7d9aae6f",
   "metadata": {},
   "outputs": [
    {
     "name": "stdout",
     "output_type": "stream",
     "text": [
      "[0, 1, 2, 3, 4]\n",
      "['M', 'O', 'O', 'N']\n"
     ]
    }
   ],
   "source": [
    "L1=[1,1,2,3,4]\n",
    "L2=['M','N','O','N']\n",
    "L1[0]=0\n",
    "L2[1]=\"O\"\n",
    "print(L1)\n",
    "print(L2)\n"
   ]
  },
  {
   "cell_type": "markdown",
   "id": "128bc021",
   "metadata": {},
   "source": [
    "### add 2 lists"
   ]
  },
  {
   "cell_type": "code",
   "execution_count": 26,
   "id": "06cf6987",
   "metadata": {},
   "outputs": [
    {
     "name": "stdout",
     "output_type": "stream",
     "text": [
      "[0, 1, 2, 3, 4, 'M', 'O', 'O', 'N']\n"
     ]
    }
   ],
   "source": [
    "L3=L1+L2\n",
    "print(L3)"
   ]
  },
  {
   "cell_type": "markdown",
   "id": "37ff65a3",
   "metadata": {},
   "source": [
    "# append ()"
   ]
  },
  {
   "cell_type": "code",
   "execution_count": 33,
   "id": "8aa0bb73",
   "metadata": {},
   "outputs": [
    {
     "name": "stdout",
     "output_type": "stream",
     "text": [
      "['M', 'N', 'O', 'P', 'Q']\n",
      "[1, 2, 3, 4, 5, 6]\n"
     ]
    }
   ],
   "source": [
    "list=['M','N','O','P']\n",
    "list1=[1,2,3,4,5]\n",
    "list.append('Q')\n",
    "list1.append(6)\n",
    "print(list)\n",
    "print(list1)"
   ]
  },
  {
   "cell_type": "code",
   "execution_count": null,
   "id": "0cfb7605",
   "metadata": {},
   "outputs": [],
   "source": []
  }
 ],
 "metadata": {
  "kernelspec": {
   "display_name": "Python 3 (ipykernel)",
   "language": "python",
   "name": "python3"
  },
  "language_info": {
   "codemirror_mode": {
    "name": "ipython",
    "version": 3
   },
   "file_extension": ".py",
   "mimetype": "text/x-python",
   "name": "python",
   "nbconvert_exporter": "python",
   "pygments_lexer": "ipython3",
   "version": "3.9.13"
  }
 },
 "nbformat": 4,
 "nbformat_minor": 5
}
